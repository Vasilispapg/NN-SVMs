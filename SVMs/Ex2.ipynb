{
 "cells": [
  {
   "cell_type": "code",
   "execution_count": 2,
   "metadata": {},
   "outputs": [
    {
     "name": "stderr",
     "output_type": "stream",
     "text": [
      "Intel(R) Extension for Scikit-learn* enabled (https://github.com/intel/scikit-learn-intelex)\n"
     ]
    }
   ],
   "source": [
    "import os\n",
    "from time import time\n",
    "from sklearn.svm import SVC\n",
    "from sklearn.metrics import f1_score,accuracy_score\n",
    "from collections import defaultdict\n",
    "import pickle\n",
    "from sklearn.decomposition import PCA\n",
    "import random as rand\n",
    "from sklearnex import patch_sklearn\n",
    "patch_sklearn()"
   ]
  },
  {
   "cell_type": "markdown",
   "metadata": {},
   "source": [
    "#### General Functions"
   ]
  },
  {
   "cell_type": "code",
   "execution_count": 9,
   "metadata": {},
   "outputs": [],
   "source": [
    "# Unpickle Function for the CIFAR-10 dataset\n",
    "def unpickle(file):\n",
    "    with open(file, 'rb') as fo:\n",
    "        dict = pickle.load(fo, encoding='bytes')\n",
    "    return dict\n",
    "    \n",
    "import matplotlib.pyplot as plt\n",
    "def plotImage(image,label):\n",
    "    image = image.reshape((3, 32, 32)).transpose([1, 2, 0])\n",
    "    plt.imshow(image)\n",
    "    plt.show()\n",
    "    print('Predicted:',label)\n",
    "    \n",
    "    \n",
    "def combineData(data,limit=None):\n",
    "    combined_data = defaultdict(list)\n",
    "    for d in data:\n",
    "        for key, value_list in d.items():\n",
    "            if limit is not None:\n",
    "                value_list = value_list[:limit]\n",
    "            combined_data[key].extend(value_list)\n",
    "    return combined_data"
   ]
  },
  {
   "cell_type": "markdown",
   "metadata": {},
   "source": [
    "## SVM"
   ]
  },
  {
   "cell_type": "markdown",
   "metadata": {},
   "source": [
    "### Variables and Files"
   ]
  },
  {
   "cell_type": "code",
   "execution_count": 4,
   "metadata": {},
   "outputs": [],
   "source": [
    "dir='cifar-10-batches-py/'\n",
    "# Get the files\n",
    "files=os.listdir(dir)\n",
    "files=[dir+file for file in files]\n",
    "files.sort()\n",
    "\n",
    "# Get the test file\n",
    "test_file=files[len(files)-1]\n",
    "\n",
    "# index file and test File are not needed\n",
    "files=files[:len(files)-2]\n",
    "\n",
    "# Get the data\n",
    "data=[unpickle(file) for file in files]\n",
    "test_file=unpickle(test_file)\n",
    "\n",
    "data_names=data[0]\n",
    "data=data[1:]"
   ]
  },
  {
   "cell_type": "markdown",
   "metadata": {},
   "source": [
    "### Kernel test"
   ]
  },
  {
   "cell_type": "code",
   "execution_count": 5,
   "metadata": {},
   "outputs": [],
   "source": [
    "limit=1000\n",
    "df=combineData(data,limit)\n",
    "\n",
    "X_train=df[b'data']\n",
    "y_train=df[b'labels']\n",
    "\n",
    "X_test=test_file[b'data'][:limit]\n",
    "y_test=test_file[b'labels'][:limit]\n"
   ]
  },
  {
   "cell_type": "code",
   "execution_count": 6,
   "metadata": {},
   "outputs": [],
   "source": [
    "svcL1=SVC(kernel='linear',C=1)\n",
    "svcL2=SVC(kernel='linear',C=10)\n",
    "svcL3=SVC(kernel='linear',C=100)\n",
    "\n",
    "svcR1=SVC(kernel='rbf',C=1)\n",
    "svcR2=SVC(kernel='rbf',C=10)\n",
    "svcR3=SVC(kernel='rbf',C=100)\n",
    "\n",
    "svcP1=SVC(kernel='poly',C=1)\n",
    "svcP2=SVC(kernel='poly',C=10)\n",
    "svcP3=SVC(kernel='poly',C=100)"
   ]
  },
  {
   "cell_type": "code",
   "execution_count": 7,
   "metadata": {},
   "outputs": [
    {
     "name": "stdout",
     "output_type": "stream",
     "text": [
      "Linear Kernel C=1\n",
      "Training Accuracy:  1.0\n",
      "Testing Accuracy:  0.318\n",
      "F1 Score:  0.3161897134766362\n"
     ]
    }
   ],
   "source": [
    "svcL1.fit(X_train,y_train)\n",
    "print('Linear Kernel C=1')\n",
    "print('Training Accuracy: ',svcL1.score(X_train,y_train))\n",
    "print('Testing Accuracy: ',svcL1.score(X_test,y_test))\n",
    "print('F1 Score: ',f1_score(y_test,svcL1.predict(X_test),average='macro'))"
   ]
  },
  {
   "cell_type": "code",
   "execution_count": 11,
   "metadata": {},
   "outputs": [
    {
     "name": "stdout",
     "output_type": "stream",
     "text": [
      "False asnwer:\n",
      "Actual Label: 0\n"
     ]
    },
    {
     "data": {
      "image/png": "[encoded data removed]",
      "text/plain": [
       "<Figure size 640x480 with 1 Axes>"
      ]
     },
     "metadata": {},
     "output_type": "display_data"
    },
    {
     "name": "stdout",
     "output_type": "stream",
     "text": [
      "Predicted: 2\n",
      "Correct asnwer:\n",
      "Actual Label: 8\n"
     ]
    },
    {
     "data": {
      "image/png": "[encoded data removed]",
      "text/plain": [
       "<Figure size 640x480 with 1 Axes>"
      ]
     },
     "metadata": {},
     "output_type": "display_data"
    },
    {
     "name": "stdout",
     "output_type": "stream",
     "text": [
      "Predicted: 8\n"
     ]
    }
   ],
   "source": [
    "y_pred=svcL1.predict(X_test)\n",
    "\n",
    "right_dess=None\n",
    "false_dess=None\n",
    "for i in range(len(y_test)):\n",
    "    if y_test[i]==y_pred[i]:\n",
    "        right_dess=i\n",
    "    else:\n",
    "        false_dess=i\n",
    "    if(right_dess is not None and false_dess is not None):\n",
    "        break\n",
    "    \n",
    "print(\"False asnwer:\")\n",
    "print('Actual Label:',y_test[false_dess])\n",
    "plotImage(X_test[false_dess],y_pred[false_dess])\n",
    "\n",
    "print(\"Correct asnwer:\")\n",
    "print('Actual Label:',y_test[right_dess])\n",
    "plotImage(X_test[right_dess],y_pred[right_dess])"
   ]
  },
  {
   "cell_type": "code",
   "execution_count": 8,
   "metadata": {},
   "outputs": [
    {
     "name": "stdout",
     "output_type": "stream",
     "text": [
      "RBF Kernel C=1\n",
      "Training Accuracy:  0.7154\n",
      "Testing Accuracy:  0.45\n",
      "F1 Score:  0.43970017914845594\n"
     ]
    }
   ],
   "source": [
    "svcR1.fit(X_train,y_train)\n",
    "print('RBF Kernel C=1')\n",
    "print('Training Accuracy: ',svcR1.score(X_train,y_train))\n",
    "print('Testing Accuracy: ',svcR1.score(X_test,y_test))\n",
    "print('F1 Score: ',f1_score(y_test,svcR1.predict(X_test),average='macro'))"
   ]
  },
  {
   "cell_type": "code",
   "execution_count": 9,
   "metadata": {},
   "outputs": [
    {
     "name": "stdout",
     "output_type": "stream",
     "text": [
      "Polynomial Kernel C=1\n",
      "Training Accuracy:  0.9768\n",
      "Testing Accuracy:  0.407\n",
      "F1 Score:  0.4036937439021805\n"
     ]
    }
   ],
   "source": [
    "svcP1.fit(X_train,y_train)\n",
    "print('Polynomial Kernel C=1')\n",
    "print('Training Accuracy: ',svcP1.score(X_train,y_train))\n",
    "print('Testing Accuracy: ',svcP1.score(X_test,y_test))\n",
    "print('F1 Score: ',f1_score(y_test,svcP1.predict(X_test),average='macro'))"
   ]
  },
  {
   "cell_type": "code",
   "execution_count": 10,
   "metadata": {},
   "outputs": [
    {
     "name": "stdout",
     "output_type": "stream",
     "text": [
      "Linear Kernel C=10\n",
      "Training Accuracy:  1.0\n",
      "Testing Accuracy:  0.318\n",
      "F1 Score:  0.3161897134766362\n",
      "RBF Kernel C=10\n",
      "Training Accuracy:  0.7154\n",
      "Testing Accuracy:  0.45\n",
      "F1 Score:  0.43970017914845594\n",
      "Polynomial Kernel C=10\n",
      "Training Accuracy:  0.9768\n",
      "Testing Accuracy:  0.407\n",
      "F1 Score:  0.4036937439021805\n"
     ]
    }
   ],
   "source": [
    "svcL2.fit(X_train,y_train)\n",
    "print('Linear Kernel C=10')\n",
    "print('Training Accuracy: ',svcL1.score(X_train,y_train))\n",
    "print('Testing Accuracy: ',svcL1.score(X_test,y_test))\n",
    "print('F1 Score: ',f1_score(y_test,svcL1.predict(X_test),average='macro'))\n",
    "\n",
    "svcR2.fit(X_train,y_train)\n",
    "print('RBF Kernel C=10')\n",
    "print('Training Accuracy: ',svcR1.score(X_train,y_train))\n",
    "print('Testing Accuracy: ',svcR1.score(X_test,y_test))\n",
    "print('F1 Score: ',f1_score(y_test,svcR1.predict(X_test),average='macro'))\n",
    "\n",
    "svcP2.fit(X_train,y_train)\n",
    "print('Polynomial Kernel C=10')\n",
    "print('Training Accuracy: ',svcP1.score(X_train,y_train))\n",
    "print('Testing Accuracy: ',svcP1.score(X_test,y_test))\n",
    "print('F1 Score: ',f1_score(y_test,svcP1.predict(X_test),average='macro'))"
   ]
  },
  {
   "cell_type": "code",
   "execution_count": 11,
   "metadata": {},
   "outputs": [
    {
     "name": "stdout",
     "output_type": "stream",
     "text": [
      "Linear Kernel C=100\n",
      "Training Accuracy:  1.0\n",
      "Testing Accuracy:  0.318\n",
      "F1 Score:  0.3161897134766362\n",
      "RBF Kernel C=100\n",
      "Training Accuracy:  0.7154\n",
      "Testing Accuracy:  0.45\n",
      "F1 Score:  0.43970017914845594\n",
      "Polynomial Kernel C=100\n",
      "Training Accuracy:  0.9768\n",
      "Testing Accuracy:  0.407\n",
      "F1 Score:  0.4036937439021805\n"
     ]
    }
   ],
   "source": [
    "svcL3.fit(X_train,y_train)\n",
    "print('Linear Kernel C=100')\n",
    "print('Training Accuracy: ',svcL1.score(X_train,y_train))\n",
    "print('Testing Accuracy: ',svcL1.score(X_test,y_test))\n",
    "print('F1 Score: ',f1_score(y_test,svcL1.predict(X_test),average='macro'))\n",
    "\n",
    "svcR3.fit(X_train,y_train)\n",
    "print('RBF Kernel C=100')\n",
    "print('Training Accuracy: ',svcR1.score(X_train,y_train))\n",
    "print('Testing Accuracy: ',svcR1.score(X_test,y_test))\n",
    "print('F1 Score: ',f1_score(y_test,svcR1.predict(X_test),average='macro'))\n",
    "\n",
    "svcP3.fit(X_train,y_train)\n",
    "print('Polynomial Kernel C=100')\n",
    "print('Training Accuracy: ',svcP1.score(X_train,y_train))\n",
    "print('Testing Accuracy: ',svcP1.score(X_test,y_test))\n",
    "print('F1 Score: ',f1_score(y_test,svcP1.predict(X_test),average='macro'))"
   ]
  },
  {
   "cell_type": "code",
   "execution_count": 13,
   "metadata": {},
   "outputs": [
    {
     "name": "stdout",
     "output_type": "stream",
     "text": [
      "rbf Kernel C=1 gamma=0.1\n",
      "Training Accuracy:  1.0\n",
      "Testing Accuracy:  0.09\n",
      "F1 Score:  0.016513761467889906\n",
      "rbf Kernel C=1 gamma=0.01\n",
      "Training Accuracy:  1.0\n",
      "Testing Accuracy:  0.09\n",
      "F1 Score:  0.016513761467889906\n",
      "rbf Kernel C=1 gamma=0.001\n",
      "Training Accuracy:  1.0\n",
      "Testing Accuracy:  0.09\n",
      "F1 Score:  0.016513761467889906\n"
     ]
    }
   ],
   "source": [
    "svc1=SVC(kernel='rbf',C=1,gamma=0.1)\n",
    "svc2=SVC(kernel='rbf',C=1,gamma=0.01)\n",
    "svc3=SVC(kernel='rbf',C=1,gamma=0.001)\n",
    "\n",
    "svc1.fit(X_train,y_train)\n",
    "print('rbf Kernel C=1 gamma=0.1')\n",
    "print('Training Accuracy: ',svc1.score(X_train,y_train))\n",
    "print('Testing Accuracy: ',svc1.score(X_test,y_test))\n",
    "print('F1 Score: ',f1_score(y_test,svc1.predict(X_test),average='macro'))\n",
    "\n",
    "svc2.fit(X_train,y_train)\n",
    "print('rbf Kernel C=1 gamma=0.01')\n",
    "print('Training Accuracy: ',svc2.score(X_train,y_train))\n",
    "print('Testing Accuracy: ',svc2.score(X_test,y_test))\n",
    "print('F1 Score: ',f1_score(y_test,svc2.predict(X_test),average='macro'))\n",
    "\n",
    "svc3.fit(X_train,y_train)\n",
    "print('rbf Kernel C=1 gamma=0.001')\n",
    "print('Training Accuracy: ',svc3.score(X_train,y_train))\n",
    "print('Testing Accuracy: ',svc3.score(X_test,y_test))\n",
    "print('F1 Score: ',f1_score(y_test,svc3.predict(X_test),average='macro'))\n"
   ]
  },
  {
   "cell_type": "markdown",
   "metadata": {},
   "source": [
    "### Batches"
   ]
  },
  {
   "cell_type": "code",
   "execution_count": 8,
   "metadata": {},
   "outputs": [
    {
     "name": "stdout",
     "output_type": "stream",
     "text": [
      "poly Kernel, C=10, gamma=auto, before_limit: 0 limit: 1000\n",
      "Training Accuracy:  1.0\n",
      "Testing Accuracy:  0.3202\n",
      "F1 Score:  0.3200698303519453\n",
      "poly Kernel, C=10, gamma=auto, before_limit: 1000 limit: 2000\n",
      "Training Accuracy:  1.0\n",
      "Testing Accuracy:  0.3183\n",
      "F1 Score:  0.31856781388040945\n",
      "poly Kernel, C=10, gamma=auto, before_limit: 2000 limit: 5000\n",
      "Training Accuracy:  1.0\n",
      "Testing Accuracy:  0.3635\n",
      "F1 Score:  0.3638082341072698\n",
      "poly Kernel, C=10, gamma=auto, before_limit: 5000 limit: 10000\n",
      "Training Accuracy:  1.0\n",
      "Testing Accuracy:  0.3852\n",
      "F1 Score:  0.38643190088314633\n"
     ]
    }
   ],
   "source": [
    "svc=SVC(kernel='poly',C=10,gamma='auto')\n",
    "limit_before=0\n",
    "\n",
    "for limit in [1000,2000,5000,10000,20000,50000]:\n",
    "    df=combineData(data)\n",
    "   \n",
    "    X_train=df[b'data'][limit_before:limit]\n",
    "    y_train=df[b'labels'][limit_before:limit]\n",
    "\n",
    "    X_test=test_file[b'data']\n",
    "    y_test=test_file[b'labels']\n",
    "    \n",
    "    svc.fit(X_train,y_train)\n",
    "    print('poly Kernel, C=10, gamma=auto, before_limit:',limit_before,'limit:',limit)\n",
    "    print('Training Accuracy: ',svc.score(X_train,y_train))\n",
    "    print('Testing Accuracy: ',svc.score(X_test,y_test))\n",
    "    print('F1 Score: ',f1_score(y_test,svc.predict(X_test),average='macro'))\n",
    "    \n",
    "    \n",
    "    limit_before=limit"
   ]
  },
  {
   "cell_type": "code",
   "execution_count": 9,
   "metadata": {},
   "outputs": [
    {
     "name": "stdout",
     "output_type": "stream",
     "text": [
      "poly Kernel, C=10, gamma=auto, before_limit: 0 limit: 1000\n",
      "Training Accuracy:  1.0\n",
      "Testing Accuracy:  0.2972\n",
      "F1 Score:  0.29677880216671293\n",
      "poly Kernel, C=10, gamma=auto, before_limit: 1000 limit: 2000\n",
      "Training Accuracy:  1.0\n",
      "Testing Accuracy:  0.2981\n",
      "F1 Score:  0.2985846296838123\n",
      "poly Kernel, C=10, gamma=auto, before_limit: 2000 limit: 5000\n",
      "Training Accuracy:  1.0\n",
      "Testing Accuracy:  0.3016\n",
      "F1 Score:  0.3011359136789427\n",
      "poly Kernel, C=10, gamma=auto, before_limit: 5000 limit: 10000\n",
      "Training Accuracy:  1.0\n",
      "Testing Accuracy:  0.2999\n",
      "F1 Score:  0.300929826330398\n",
      "poly Kernel, C=10, gamma=auto, before_limit: 10000 limit: 20000\n",
      "Training Accuracy:  1.0\n",
      "Testing Accuracy:  0.301\n",
      "F1 Score:  0.30151137358243824\n"
     ]
    }
   ],
   "source": [
    "svc=SVC(kernel='linear',C=10,gamma='auto')\n",
    "limit_before=0\n",
    "\n",
    "for limit in [1000,2000,5000,10000,20000,50000]:\n",
    "    df=combineData(data)\n",
    "   \n",
    "    X_train=df[b'data'][limit_before:limit]\n",
    "    y_train=df[b'labels'][limit_before:limit]\n",
    "\n",
    "    X_test=test_file[b'data']\n",
    "    y_test=test_file[b'labels']\n",
    "    \n",
    "    svc.fit(X_train,y_train)\n",
    "    print('poly Kernel, C=10, gamma=auto, before_limit:',limit_before,'limit:',limit)\n",
    "    print('Training Accuracy: ',svc.score(X_train,y_train))\n",
    "    print('Testing Accuracy: ',svc.score(X_test,y_test))\n",
    "    print('F1 Score: ',f1_score(y_test,svc.predict(X_test),average='macro'))\n",
    "    \n",
    "    \n",
    "    limit_before=limit"
   ]
  },
  {
   "cell_type": "markdown",
   "metadata": {},
   "source": [
    "### Get scores of 64 models"
   ]
  },
  {
   "cell_type": "code",
   "execution_count": 36,
   "metadata": {},
   "outputs": [
    {
     "name": "stdout",
     "output_type": "stream",
     "text": [
      "Kernel: linear C: 1 gamma: auto index: 1\n",
      "Time Taken: 5.29200998544693 minutes\n",
      "Kernel: linear C: 1 gamma: 0.001 index: 2\n",
      "Time Taken: 5.289050002892812 minutes\n",
      "Kernel: linear C: 1 gamma: 0.0001 index: 3\n",
      "Time Taken: 5.252700010935466 minutes\n",
      "Kernel: linear C: 10 gamma: auto index: 4\n",
      "Time Taken: 5.631417441368103 minutes\n",
      "Kernel: linear C: 10 gamma: 0.001 index: 5\n",
      "Time Taken: 5.84684092203776 minutes\n",
      "Kernel: linear C: 10 gamma: 0.0001 index: 6\n",
      "Time Taken: 6.9043173551559445 minutes\n",
      "Kernel: linear C: 100 gamma: auto index: 7\n",
      "Time Taken: 6.870316628615061 minutes\n",
      "Kernel: linear C: 100 gamma: 0.001 index: 8\n",
      "Time Taken: 6.828066674868266 minutes\n",
      "Kernel: linear C: 100 gamma: 0.0001 index: 9\n",
      "Time Taken: 8.28017292022705 minutes\n",
      "Kernel: rbf C: 1 gamma: auto index: 10\n",
      "Time Taken: 9.059309693177541 minutes\n",
      "Kernel: rbf C: 1 gamma: 0.001 index: 11\n",
      "Time Taken: 10.046081598599752 minutes\n",
      "Kernel: rbf C: 1 gamma: 0.0001 index: 12\n",
      "Time Taken: 9.934654593467712 minutes\n",
      "Kernel: rbf C: 10 gamma: auto index: 13\n",
      "Time Taken: 8.475756359100341 minutes\n",
      "Kernel: rbf C: 10 gamma: 0.001 index: 14\n",
      "Time Taken: 8.358931370576222 minutes\n",
      "Kernel: rbf C: 10 gamma: 0.0001 index: 15\n",
      "Time Taken: 8.316136693954467 minutes\n",
      "Kernel: rbf C: 100 gamma: auto index: 16\n",
      "Time Taken: 7.8840167880058285 minutes\n",
      "Kernel: rbf C: 100 gamma: 0.001 index: 17\n",
      "Time Taken: 8.643483328819276 minutes\n",
      "Kernel: rbf C: 100 gamma: 0.0001 index: 18\n",
      "Time Taken: 9.038133513927459 minutes\n",
      "Kernel: poly C: 1 gamma: auto index: 19\n",
      "Time Taken: 6.483720084031423 minutes\n",
      "Kernel: poly C: 1 gamma: 0.001 index: 20\n",
      "Time Taken: 5.239279162883759 minutes\n",
      "Kernel: poly C: 1 gamma: 0.0001 index: 21\n",
      "Time Taken: 5.2656000057856245 minutes\n",
      "Kernel: poly C: 10 gamma: auto index: 22\n",
      "Time Taken: 5.6210001031557715 minutes\n",
      "Kernel: poly C: 10 gamma: 0.001 index: 23\n",
      "Time Taken: 5.411683281262715 minutes\n",
      "Kernel: poly C: 10 gamma: 0.0001 index: 24\n",
      "Time Taken: 4.992799949645996 minutes\n",
      "Kernel: poly C: 100 gamma: auto index: 25\n",
      "Time Taken: 5.011666643619537 minutes\n",
      "Kernel: poly C: 100 gamma: 0.001 index: 26\n",
      "Time Taken: 5.093850080172221 minutes\n",
      "Kernel: poly C: 100 gamma: 0.0001 index: 27\n",
      "Time Taken: 4.806518300374349 minutes\n"
     ]
    }
   ],
   "source": [
    "kernel=['linear','rbf','poly']\n",
    "C=[1,10,100]\n",
    "gamma=['auto',0.001,0.0001]\n",
    "limit = 4000\n",
    "\n",
    "df=combineData(data,limit)\n",
    "\n",
    "X_train=df[b'data'][:limit]\n",
    "y_train=df[b'labels'][:limit]\n",
    "\n",
    "X_test=test_file[b'data']\n",
    "y_test=test_file[b'labels']\n",
    "\n",
    "models=[]\n",
    "index=0\n",
    "for k in kernel:\n",
    "    for c in C:\n",
    "        for g in gamma:\n",
    "            time_start=time()\n",
    "            index+=1\n",
    "            \n",
    "            print('Kernel:',k,'C:',c,'gamma:',g,'index:',index)\n",
    "            \n",
    "            svc=SVC(kernel=k,C=c,gamma=g)\n",
    "            svc.fit(X_train,y_train)\n",
    "            f1=f1_score(y_test,svc.predict(X_test),average='macro')\n",
    "            train_acccuracy=svc.score(X_train,y_train)\n",
    "            test_accuracy=svc.score(X_test,y_test)\n",
    "            \n",
    "            time_end=time()\n",
    "            print('Time Taken:',(time_end-time_start)/60,'minutes')\n",
    "            models.append([svc,k,c,g,train_acccuracy,test_accuracy,f1,time_end-time_start])\n",
    "    "
   ]
  },
  {
   "cell_type": "code",
   "execution_count": null,
   "metadata": {},
   "outputs": [],
   "source": [
    "import pickle\n",
    "with open ('SVMs/cifar-10-batches-py/models.pkl','wb') as f:\n",
    "    pickle.dump(models,f)\n",
    "    "
   ]
  },
  {
   "cell_type": "code",
   "execution_count": 20,
   "metadata": {},
   "outputs": [
    {
     "name": "stdout",
     "output_type": "stream",
     "text": [
      "SVC(C=10, gamma='auto', kernel='poly')\n",
      "Time Taken: 8.956550161043802 minutes\n",
      "F1 Score: 0.40910913300196283\n",
      "Training Accuracy: 1.0\n",
      "Testing Accuracy: 0.407\n"
     ]
    }
   ],
   "source": [
    "time_start=time()\n",
    "c=10\n",
    "gamma='auto'\n",
    "kernel='poly'\n",
    "\n",
    "svc=SVC(kernel=kernel,C=c,gamma=gamma)\n",
    "print(svc)\n",
    "svc.fit(X_train,y_train)\n",
    "f1=f1_score(y_test,svc.predict(X_test),average='macro')\n",
    "train_acccuracy=svc.score(X_train,y_train)\n",
    "test_accuracy=svc.score(X_test,y_test)\n",
    "\n",
    "time_end=time()\n",
    "print('Time Taken:',(time_end-time_start)/60,'minutes')\n",
    "print('F1 Score:',f1)\n",
    "print('Training Accuracy:',train_acccuracy)\n",
    "print('Testing Accuracy:',test_accuracy)\n",
    "models.append([svc,kernel,c,gamma,train_acccuracy,test_accuracy,f1,time_end-time_start,len(X_train)])"
   ]
  },
  {
   "cell_type": "code",
   "execution_count": null,
   "metadata": {},
   "outputs": [],
   "source": [
    "models.sort(key=lambda x: x[6],reverse=True)\n",
    "from tabulate import tabulate\n",
    "\n",
    "print(tabulate([x[1:] for x in models], headers=['Kernel', 'C','gamma','Train Accuracy','Test Accuracy','F1 Score','Time Taken',\"Data\"]))"
   ]
  },
  {
   "cell_type": "markdown",
   "metadata": {},
   "source": [
    "\n",
    "| Kernel |    C  |   gamma    | TrainAccuracy | TestAccuracy | F1Score  | TimeTaken | Data |\n",
    "|--------|-------|------------|---------------|--------------|----------|-----------|------|\n",
    "| poly   | 10.0  | auto       | 1.0           | 0.407        | 0.409109 | 537.393   | 8000 |\n",
    "| poly   | 1.0   | 0.0001     | 1.0           | 0.3757       | 0.377222 | 315.936   | 4000 |\n",
    "| poly   | 10.0  | auto       | 1.0           | 0.3757       | 0.377222 | 337.26    | 4000 |\n",
    "| poly   | 10.0  | 0.0001     | 1.0           | 0.3757       | 0.377222 | 299.568   | 4000 |\n",
    "| poly   | 100.0 | auto       | 1.0           | 0.3757       | 0.377222 | 300.7     | 4000 |\n",
    "| poly   | 100.0 | 0.0001     | 1.0           | 0.3757       | 0.377222 | 288.391   | 4000 |\n",
    "| poly   | 1.0   | auto       | 1.0           | 0.3757       | 0.377222 | 389.023   | 4000 |\n",
    "| poly   | 1.0   | 0.001      | 1.0           | 0.3757       | 0.37722  | 314.357   | 4000 |\n",
    "| poly   | 10.0  | 0.001      | 1.0           | 0.3757       | 0.37722  | 324.701   | 4000 |\n",
    "| poly   | 100.0 | 0.001      | 1.0           | 0.3757       | 0.37722  | 305.631   | 4000 |\n",
    "| rbf    | 100.0 | 1.00E-10   | 0.681         | 0.3303       | 0.326977 | 978.653   | 2000 |\n",
    "| poly   | 10.0  | 1.00E-05   | 1.0           | 0.3203       | 0.32018  | 789.315   | 2000 |\n",
    "| poly   | 1000.0| 1.00E-05   | 1.0           | 0.3203       | 0.32018  | 641.157   | 2000 |\n",
    "| poly   | 10.0  | 0.0001     | 1.0           | 0.3203       | 0.32018  | 561.281   | 2000 |\n",
    "| poly   | 1.0   | 0.0001     | 1.0           | 0.3203       | 0.32018  | 55.295    | 2000 |\n",
    "| poly   | 100.0 | 0.0001     | 1.0           | 0.3203       | 0.32018  | 561.768   | 2000 |\n",
    "| poly   | 100.0 | auto       | 1.0           | 0.3202       | 0.32007  | 564.036   | 2000 |\n",
    "| poly   | 10.0  | auto       | 1.0           | 0.3202       | 0.32007  | 558.091   | 2000 |\n",
    "| poly   | 1.0   | auto       | 1.0           | 0.3202       | 0.32007  | 548.759   | 2000 |\n",
    "| poly   | 100.0 | 0.001      | 1.0           | 0.3202       | 0.32007  | 562.468   | 2000 |\n",
    "| poly   | 10.0  | 0.001      | 1.0           | 0.3202       | 0.32007  | 555.483   | 2000 |\n",
    "| poly   | 1.0   | 0.001      | 1.0           | 0.3202       | 0.32007  | 558.049   | 2000 |\n",
    "| linear | 10.0  | 0.0001     | 1.0           | 0.3073       | 0.308494 | 414.259   | 4000 |\n",
    "| linear | 100.0 | 0.001      | 1.0           | 0.3073       | 0.308494 | 409.684   | 4000 |\n",
    "| linear | 1.0   | auto       | 1.0           | 0.3073       | 0.308494 | 317.521   | 4000 |\n",
    "| linear | 1.0   | 0.001      | 1.0           | 0.3073       | 0.308494 | 317.343   | 4000 |\n",
    "| linear | 1.0   | 0.0001     | 1.0           | 0.3073       | 0.308494 | 315.162   | 4000 |\n",
    "| linear | 10.0  | auto       | 1.0           | 0.3073       | 0.308494 | 337.885   | 4000 |\n",
    "| linear | 10.0  | 0.001      | 1.0           | 0.3073       | 0.308494 | 350.81    | 4000 |\n",
    "| linear | 100.0 | auto       | 1.0           | 0.3073       | 0.308494 | 412.219   | 4000 |\n",
    "| linear | 100.0 | 0.0001     | 1.0           | 0.3073       | 0.308494 | 496.81    | 4000 |\n",
    "| linear | 10.0  | auto       | 1.0           | 0.3031       | 0.304481 | 593.181   | 8000 |\n",
    "| linear | 1.0   | auto       | 1.0           | 0.2972       | 0.296779 | 42.689    | 2000 |\n",
    "| linear | 100.0 | 0.001      | 1.0           | 0.2972       | 0.296779 | 41.524    | 2000 |\n",
    "| linear | 0.01  | 0.001      | 1.0           | 0.2972       | 0.296779 | 765.549   | 2000 |\n",
    "| linear | 10.0  | 0.0001     | 1.0           | 0.2972       | 0.296779 | 41.693    | 2000 |\n",
    "| linear | 10.0  | 0.001      | 1.0           | 0.2972       | 0.296779 | 39.961    | 2000 |\n",
    "| linear | 10.0  | auto       | 1.0           | 0.2972       | 0.296779 | 40.707    | 2000 |\n",
    "| linear | 1.0   | 0.0001     | 1.0           | 0.2972       | 0.296779 | 40.832    | 2000 |\n",
    "| linear | 1.0   | 0.001      | 1.0           | 0.2972       | 0.296779 | 40.714    | 2000 |\n",
    "| linear | 100.0 | auto       | 1.0           | 0.2972       | 0.296779 | 43.49     | 2000 |\n",
    "| linear | 10.0  | 1.00E-09   | 1.0           | 0.2972       | 0.296779 | 748.156   | 2000 |\n",
    "| linear | 1000.0| auto       | 1.0           | 0.2972       | 0.296779 | 61.386    | 2000 |\n",
    "| linear | 100.0 | 0.0001     | 1.0           | 0.2972       | 0.296779 | 41.341    | 2000 |\n",
    "| poly   | 100.0 | 0.0001     | 0.189         | 0.168        | 0.0853473| 887.813   | 2000 |\n",
    "| rbf    | 100.0  | 1.00E-12   | 0.189          | 0.1679        | 0.0852953  | 945.848    | 2000   |\n",
    "| rbf    | 10.0   | 0.0001     | 1.0            | 0.1           | 0.0181818  | 64.945     | 2000   |\n",
    "| rbf    | 100.0  | auto       | 1.0            | 0.1           | 0.0181818  | 64.652     | 2000   |\n",
    "| rbf    | 100.0  | 0.001      | 1.0            | 0.1           | 0.0181818  | 63.37      | 2000   |\n",
    "| rbf    | 100.0  | 0.0001     | 1.0            | 0.1           | 0.0181818  | 750.525    | 2000   |\n",
    "| rbf    | 100.0  | 0.0001     | 1.0            | 0.1           | 0.0181818  | 542.288    | 4000   |\n",
    "| rbf    | 100.0  | 0.001      | 1.0            | 0.1           | 0.0181818  | 518.609    | 4000   |\n",
    "| rbf    | 1.0    | auto       | 1.0            | 0.1           | 0.0181818  | 543.559    | 4000   |\n",
    "| rbf    | 1.0    | 0.001      | 1.0            | 0.1           | 0.0181818  | 602.765    | 4000   |\n",
    "| rbf    | 1.0    | 0.0001     | 1.0            | 0.1           | 0.0181818  | 596.079    | 4000   |\n",
    "| rbf    | 10.0   | auto       | 1.0            | 0.1           | 0.0181818  | 508.545    | 4000   |\n",
    "| rbf    | 10.0   | 0.001      | 1.0            | 0.1           | 0.0181818  | 501.536    | 4000   |\n",
    "| rbf    | 10.0   | 0.0001     | 1.0            | 0.1           | 0.0181818  | 498.968    | 4000   |\n",
    "| rbf    | 100.0  | auto       | 1.0            | 0.1           | 0.0181818  | 473.041    | 4000   |\n",
    "| poly   | 1000.0 | 1.00E-12   | 0.112          | 0.1           | 0.0181818  | 662.323    | 2000   |\n",
    "| rbf    | 1.0    | auto       | 1.0            | 0.1           | 0.018181   | 63.34      | 2000   |\n",
    "| rbf    | 1.0    | 0.001      | 1.0            | 0.1           | 0.018181   | 63.345     | 2000   |\n",
    "| rbf    | 1.0    | 0.0001     | 1.0            | 0.1           | 0.018181   | 64.689     | 2000   |\n",
    "| rbf    | 10.0   | auto       | 1.0            | 0.1           | 0.018181   | 64.58      | 2000   |\n",
    "| rbf    | 10.0   | 0.001      | 1.0            | 0.1           | 0.018181   | 64.098     | 2000   |\n"
   ]
  },
  {
   "cell_type": "code",
   "execution_count": null,
   "metadata": {},
   "outputs": [],
   "source": [
    "# Kmeans \n",
    "from sklearn.cluster import KMeans\n",
    "\n",
    "num_clusters=[5,7,9,11,13]\n",
    "kmean_models=[]\n",
    "for n in num_clusters:\n",
    "    limit = [4000,15000,30000,50000]\n",
    "    \n",
    "    for l in limit:\n",
    "        df=combineData(data,l)\n",
    "\n",
    "        X_train=df[b'data'][:l]\n",
    "        y_train=df[b'labels'][:l]\n",
    "\n",
    "        X_test=test_file[b'data']\n",
    "        y_test=test_file[b'labels']\n",
    "        kmeans=KMeans(n_clusters=n,random_state=0)\n",
    "        kmeans.fit(X_train)\n",
    "        kmean_models.append([n,l,accuracy_score(y_train,kmeans.predict(X_train)),accuracy_score(y_test,kmeans.predict(X_test)),f1_score(y_test,kmeans.predict(X_test),average='macro')])\n",
    "\n"
   ]
  },
  {
   "cell_type": "code",
   "execution_count": 18,
   "metadata": {},
   "outputs": [
    {
     "name": "stdout",
     "output_type": "stream",
     "text": [
      "Size of Training Data: 4000\n",
      "Size of Training Data: 15000\n",
      "Size of Training Data: 30000\n",
      "Size of Training Data: 50000\n"
     ]
    }
   ],
   "source": [
    "# Nearest Class Centroid\n",
    "from sklearn.neighbors import NearestCentroid\n",
    "# Nearest Neighbor\n",
    "from sklearn.neighbors import KNeighborsClassifier\n",
    "\n",
    "limit = [4000,15000,30000,50000]\n",
    "nnc_models=[]\n",
    "knn_models=[]\n",
    "\n",
    "for l in limit:\n",
    "    df=combineData(data,l)\n",
    "\n",
    "    X_train=df[b'data'][:l]\n",
    "    y_train=df[b'labels'][:l]\n",
    "\n",
    "    X_test=test_file[b'data']\n",
    "    y_test=test_file[b'labels']\n",
    "    \n",
    "    print(\"Size of Training Data:\",len(X_train))\n",
    "    start=time()\n",
    "    \n",
    "    nnc=NearestCentroid()\n",
    "    nnc.fit(X_train,y_train)\n",
    "    nnc_models.append([l,accuracy_score(y_train,nnc.predict(X_train)),accuracy_score(y_test,nnc.predict(X_test)),f1_score(y_test,nnc.predict(X_test),average='macro'),time()-start])\n",
    "    \n",
    "    knn = KNeighborsClassifier(n_neighbors=5)\n",
    "\n",
    "    start=time()\n",
    "    # Fit the model to the data\n",
    "    knn.fit(X_train, y_train)\n",
    "    knn_models.append([l,accuracy_score(y_train,knn.predict(X_train)),accuracy_score(y_test,knn.predict(X_test)),f1_score(y_test,knn.predict(X_test),average='macro'),time()-start])"
   ]
  },
  {
   "cell_type": "code",
   "execution_count": 54,
   "metadata": {},
   "outputs": [
    {
     "name": "stdout",
     "output_type": "stream",
     "text": [
      "  Data    Train Accuracy    Test Accuracy    F1 Score    Time Taken\n",
      "------  ----------------  ---------------  ----------  ------------\n",
      " 50000          0.50534            0.3398    0.326017       279.211\n",
      " 30000          0.491233           0.3268    0.313433       100.29\n",
      " 15000          0.478267           0.2995    0.282902        35.525\n",
      "  4000          0.43875            0.2704    0.246162         8.147\n",
      "\n",
      "  Data    Train Accuracy    Test Accuracy    F1 Score    Time Taken\n",
      "------  ----------------  ---------------  ----------  ------------\n",
      " 50000          0.26968            0.2774    0.254086      1.643\n",
      " 30000          0.2712             0.2779    0.254589      1.166\n",
      " 15000          0.270267           0.2786    0.255142      0.825988\n",
      "  4000          0.28525            0.2761    0.255551      0.605985\n",
      "\n",
      "Kernel      C  gamma      Train Accuracy    Test Accuracy    F1 Score    Time Taken    Data  Dataset\n",
      "--------  ---  -------  ----------------  ---------------  ----------  ------------  ------  ---------\n",
      "poly        1  auto                    1           0.3757   0.377222        389.023    4000  CIFAR-10\n",
      "poly        1  0.0001                  1           0.3757   0.377222        315.936    4000  CIFAR-10\n",
      "poly       10  auto                    1           0.3757   0.377222        337.26     4000  CIFAR-10\n",
      "poly       10  0.0001                  1           0.3757   0.377222        299.568    4000  CIFAR-10\n",
      "poly      100  auto                    1           0.3757   0.377222        300.7      4000  CIFAR-10\n",
      "poly      100  0.0001                  1           0.3757   0.377222        288.391    4000  CIFAR-10\n",
      "poly        1  0.001                   1           0.3757   0.37722         314.357    4000  CIFAR-10\n",
      "poly       10  0.001                   1           0.3757   0.37722         324.701    4000  CIFAR-10\n",
      "poly      100  0.001                   1           0.3757   0.37722         305.631    4000  CIFAR-10\n",
      "linear      1  auto                    1           0.3073   0.308494        317.521    4000  CIFAR-10\n",
      "linear      1  0.001                   1           0.3073   0.308494        317.343    4000  CIFAR-10\n",
      "linear      1  0.0001                  1           0.3073   0.308494        315.162    4000  CIFAR-10\n",
      "linear     10  auto                    1           0.3073   0.308494        337.885    4000  CIFAR-10\n",
      "linear     10  0.001                   1           0.3073   0.308494        350.81     4000  CIFAR-10\n",
      "linear     10  0.0001                  1           0.3073   0.308494        414.259    4000  CIFAR-10\n",
      "linear    100  auto                    1           0.3073   0.308494        412.219    4000  CIFAR-10\n",
      "linear    100  0.001                   1           0.3073   0.308494        409.684    4000  CIFAR-10\n",
      "linear    100  0.0001                  1           0.3073   0.308494        496.81     4000  CIFAR-10\n",
      "rbf         1  auto                    1           0.1      0.0181818       543.559    4000  CIFAR-10\n",
      "rbf         1  0.001                   1           0.1      0.0181818       602.765    4000  CIFAR-10\n",
      "rbf         1  0.0001                  1           0.1      0.0181818       596.079    4000  CIFAR-10\n",
      "rbf        10  auto                    1           0.1      0.0181818       508.545    4000  CIFAR-10\n",
      "rbf        10  0.001                   1           0.1      0.0181818       501.536    4000  CIFAR-10\n",
      "rbf        10  0.0001                  1           0.1      0.0181818       498.968    4000  CIFAR-10\n",
      "rbf       100  auto                    1           0.1      0.0181818       473.041    4000  CIFAR-10\n",
      "rbf       100  0.001                   1           0.1      0.0181818       518.609    4000  CIFAR-10\n",
      "rbf       100  0.0001                  1           0.1      0.0181818       542.288    4000  CIFAR-10\n",
      "0.05120478906528736\n",
      "0.06378871597489194\n",
      "0.09431976918200957\n",
      "0.13105989732160478\n",
      "\n",
      "0.12313589805011332\n",
      "0.12263323747016319\n",
      "0.12207988008164311\n",
      "0.12167062172592069\n"
     ]
    }
   ],
   "source": [
    "knn_models.sort(key=lambda x: x[4],reverse=True)\n",
    "nnc_models.sort(key=lambda x: x[4],reverse=True)\n",
    "models.sort(key=lambda x: x[6],reverse=True)\n",
    "from tabulate import tabulate\n",
    "print(tabulate(knn_models, headers=['Data','Train Accuracy','Test Accuracy','F1 Score','Time Taken']),end='\\n\\n')\n",
    "print(tabulate(nnc_models, headers=['Data','Train Accuracy','Test Accuracy','F1 Score','Time Taken']),end='\\n\\n')\n",
    "print(tabulate([x[1:]for x in models], headers=['Kernel', 'C','gamma','Train Accuracy','Test Accuracy','F1 Score','Time Taken',\"Data\", \"Dataset\"]))\n",
    "\n",
    "\n",
    "for i in range(len(knn_models)):\n",
    "    print(models[i][6]-knn_models[i][3])\n",
    "print()\n",
    "\n",
    "for i in range(len(nnc_models)):\n",
    "    print(models[i][6]-nnc_models[i][3])"
   ]
  },
  {
   "cell_type": "code",
   "execution_count": 5,
   "metadata": {},
   "outputs": [
    {
     "name": "stdout",
     "output_type": "stream",
     "text": [
      "Kernel: rbf C: 1 gamma: auto index: 1\n",
      "Time Taken: 0.7986687103907267 minutes\n",
      "Kernel: rbf C: 1 gamma: 0.001 index: 2\n",
      "Time Taken: 0.6998319745063781 minutes\n",
      "Kernel: rbf C: 1 gamma: 0.0001 index: 3\n",
      "Time Taken: 0.6302905281384786 minutes\n",
      "Kernel: rbf C: 10 gamma: auto index: 4\n",
      "Time Taken: 0.49238987763722736 minutes\n",
      "Kernel: rbf C: 10 gamma: 0.001 index: 5\n",
      "Time Taken: 0.5274699846903483 minutes\n",
      "Kernel: rbf C: 10 gamma: 0.0001 index: 6\n",
      "Time Taken: 0.5148957331975301 minutes\n",
      "Kernel: rbf C: 100 gamma: auto index: 7\n",
      "Time Taken: 0.5134164969126384 minutes\n",
      "Kernel: rbf C: 100 gamma: 0.001 index: 8\n",
      "Time Taken: 0.5483809192975362 minutes\n",
      "Kernel: rbf C: 100 gamma: 0.0001 index: 9\n",
      "Time Taken: 0.4371216893196106 minutes\n",
      "Kernel: poly C: 1 gamma: auto index: 10\n",
      "Time Taken: 0.11412241061528523 minutes\n",
      "Kernel: poly C: 1 gamma: 0.001 index: 11\n",
      "Time Taken: 0.12450120051701864 minutes\n",
      "Kernel: poly C: 1 gamma: 0.0001 index: 12\n",
      "Time Taken: 0.1211661696434021 minutes\n",
      "Kernel: poly C: 10 gamma: auto index: 13\n",
      "Time Taken: 0.12105039755503337 minutes\n",
      "Kernel: poly C: 10 gamma: 0.001 index: 14\n",
      "Time Taken: 0.10712100267410278 minutes\n",
      "Kernel: poly C: 10 gamma: 0.0001 index: 15\n",
      "Time Taken: 0.1030170758565267 minutes\n",
      "Kernel: poly C: 100 gamma: auto index: 16\n",
      "Time Taken: 0.10377841790517171 minutes\n",
      "Kernel: poly C: 100 gamma: 0.001 index: 17\n",
      "Time Taken: 0.10777738491694132 minutes\n",
      "Kernel: poly C: 100 gamma: 0.0001 index: 18\n",
      "Time Taken: 0.10792078971862792 minutes\n",
      "Kernel: linear C: 1 gamma: auto index: 19\n"
     ]
    },
    {
     "ename": "",
     "evalue": "",
     "output_type": "error",
     "traceback": [
      "\u001b[1;31mThe Kernel crashed while executing code in the the current cell or a previous cell. Please review the code in the cell(s) to identify a possible cause of the failure. Click <a href='https://aka.ms/vscodeJupyterKernelCrash'>here</a> for more info. View Jupyter <a href='command:jupyter.viewOutput'>log</a> for further details."
     ]
    }
   ],
   "source": [
    "def process(k,c,g,index):\n",
    "    time_start=time()\n",
    "    index+=1\n",
    "    \n",
    "    print('Kernel:',k,'C:',c,'gamma:',g,'index:',index)\n",
    "    \n",
    "    svc=SVC(kernel=k,C=c,gamma=g)\n",
    "    svc.fit(X_train,y_train)\n",
    "    f1=f1_score(y_test,svc.predict(X_test),average='macro')\n",
    "    train_acccuracy=svc.score(X_train,y_train)\n",
    "    test_accuracy=svc.score(X_test,y_test)\n",
    "    \n",
    "    time_end=time()\n",
    "    print('Time Taken:',(time_end-time_start)/60,'minutes')\n",
    "    models_pca.append([k,c,g,train_acccuracy,test_accuracy,f1,time_end-time_start,limit,'CIFAR-10'])\n",
    "    return index\n",
    "\n",
    "kernel=['rbf','poly','linear']\n",
    "C=[1,10,100]\n",
    "gamma=['auto',0.001,0.0001]\n",
    "limit = 4000\n",
    "\n",
    "df=combineData(data,limit)\n",
    "\n",
    "X_train=df[b'data'][:limit]\n",
    "y_train=df[b'labels'][:limit]\n",
    "\n",
    "X_test=test_file[b'data']\n",
    "y_test=test_file[b'labels']\n",
    "\n",
    "pca=PCA(0.9)\n",
    "X_train=pca.fit_transform(X_train)\n",
    "X_test=pca.transform(X_test)\n",
    "\n",
    "models_pca=[]\n",
    "index=0\n",
    "for k in kernel:\n",
    "    for c in C:\n",
    "        if(k=='linear'):\n",
    "            index=process(k,c,'auto',index)\n",
    "        else:\n",
    "            for g in gamma:\n",
    "                index=process(k,c,g,index)\n",
    "            \n",
    "    "
   ]
  },
  {
   "cell_type": "code",
   "execution_count": null,
   "metadata": {},
   "outputs": [
    {
     "name": "stdout",
     "output_type": "stream",
     "text": [
      "Kernel      C  gamma      Train Accuracy    Test Accuracy    F1 Score    Time Taken    Data  Dataset\n",
      "--------  ---  -------  ----------------  ---------------  ----------  ------------  ------  ---------\n",
      "poly        1  0.0001                  1           0.3459   0.346725        9.06601    4000  CIFAR-10\n",
      "poly       10  0.0001                  1           0.3459   0.346725        8.957      4000  CIFAR-10\n",
      "poly      100  0.0001                  1           0.3459   0.346725        8.91501    4000  CIFAR-10\n",
      "poly        1  auto                    1           0.3458   0.34664         8.98699    4000  CIFAR-10\n",
      "poly        1  0.001                   1           0.3458   0.34664         8.95697    4000  CIFAR-10\n",
      "poly       10  auto                    1           0.3458   0.34664         8.99899    4000  CIFAR-10\n",
      "poly       10  0.001                   1           0.3458   0.34664         9.006      4000  CIFAR-10\n",
      "poly      100  auto                    1           0.3458   0.34664         8.94303    4000  CIFAR-10\n",
      "poly      100  0.001                   1           0.3458   0.34664         8.921      4000  CIFAR-10\n",
      "rbf         1  auto                    1           0.1      0.0181818      29.004      4000  CIFAR-10\n",
      "rbf         1  0.001                   1           0.1      0.0181818      29.024      4000  CIFAR-10\n",
      "rbf         1  0.0001                  1           0.1      0.0181818      29.082      4000  CIFAR-10\n",
      "rbf        10  auto                    1           0.1      0.0181818      29.289      4000  CIFAR-10\n",
      "rbf        10  0.001                   1           0.1      0.0181818      28.972      4000  CIFAR-10\n",
      "rbf        10  0.0001                  1           0.1      0.0181818      29.622      4000  CIFAR-10\n",
      "rbf       100  auto                    1           0.1      0.0181818      29.542      4000  CIFAR-10\n",
      "rbf       100  0.001                   1           0.1      0.0181818      29.016      4000  CIFAR-10\n",
      "rbf       100  0.0001                  1           0.1      0.0181818      29.178      4000  CIFAR-10\n"
     ]
    }
   ],
   "source": [
    "from tabulate import tabulate\n",
    "models_pca.sort(key=lambda x : x[5],reverse=True)\n",
    "print(tabulate([x for x in models_pca], headers=['Kernel', 'C','gamma','Train Accuracy','Test Accuracy','F1 Score','Time Taken',\"Data\", \"Dataset\"]))"
   ]
  },
  {
   "cell_type": "markdown",
   "metadata": {},
   "source": [
    "\n",
    "| Kernel |    C  |   gamma    | TrainAccuracy | TestAccuracy | F1Score  | TimeTaken | Data |\n",
    "|--------|-------|------------|---------------|--------------|----------|-----------|------|\n",
    "| poly   | 10.0  | auto       | 1.0           | 0.407        | 0.409109 | 537.393   | 8000 |\n",
    "| poly   | 1.0   | 0.0001     | 1.0           | 0.3757       | 0.377222 | 315.936   | 4000 |\n",
    "| rbf    | 100.0 | 1.00E-10   | 0.681         | 0.3303       | 0.326977 | 978.653   | 2000 |\n",
    "| linear | 10.0  | 0.0001     | 1.0           | 0.3073       | 0.308494 | 414.259   | 4000 |"
   ]
  }
 ],
 "metadata": {
  "kernelspec": {
   "display_name": "Python 3",
   "language": "python",
   "name": "python3"
  },
  "language_info": {
   "codemirror_mode": {
    "name": "ipython",
    "version": 3
   },
   "file_extension": ".py",
   "mimetype": "text/x-python",
   "name": "python",
   "nbconvert_exporter": "python",
   "pygments_lexer": "ipython3",
   "version": "3.11.3"
  }
 },
 "nbformat": 4,
 "nbformat_minor": 2
}
